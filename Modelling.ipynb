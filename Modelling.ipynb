{
 "cells": [
  {
   "cell_type": "code",
   "execution_count": 1,
   "metadata": {},
   "outputs": [],
   "source": [
    "import pandas as pd\n",
    "from sklearn.model_selection import train_test_split,GridSearchCV\n",
    "from sklearn.preprocessing import MinMaxScaler,LabelEncoder,StandardScaler,Normalizer,OneHotEncoder\n",
    "from sklearn.feature_extraction.text import CountVectorizer\n",
    "from scipy.sparse import hstack\n",
    "from sklearn.metrics import f1_score,accuracy_score,roc_auc_score,precision_recall_fscore_support\n",
    "from sklearn.linear_model import LogisticRegression\n",
    "from sklearn.naive_bayes import MultinomialNB\n",
    "from sklearn.tree import DecisionTreeClassifier\n",
    "from sklearn.ensemble import RandomForestClassifier,GradientBoostingClassifier\n",
    "import seaborn as sns\n",
    "from sklearn.metrics import roc_curve,auc\n",
    "import itertools\n",
    "import numpy as np\n",
    "from sklearn import metrics\n",
    "import matplotlib.pyplot as plt\n",
    "from sklearn.metrics import confusion_matrix"
   ]
  },
  {
   "cell_type": "code",
   "execution_count": 2,
   "metadata": {},
   "outputs": [
    {
     "data": {
      "text/plain": [
       "Index(['payment_sequential', 'payment_type', 'payment_installments',\n",
       "       'payment_value', 'customer_city', 'customer_state', 'price',\n",
       "       'freight_value', 'product_name_length', 'product_description_length',\n",
       "       'product_photos_qty', 'seller_state', 'product_category_name',\n",
       "       'delivery_days', 'estimated_days', 'ships_in', 'arrival_time',\n",
       "       'delivery_impression', 'estimated_del_impression', 'ship_impression',\n",
       "       'seller_popularity', 'existing_cust', 'Score'],\n",
       "      dtype='object')"
      ]
     },
     "execution_count": 2,
     "metadata": {},
     "output_type": "execute_result"
    }
   ],
   "source": [
    "data = pd.read_csv('preprocessed_data.csv')\n",
    "data.columns"
   ]
  },
  {
   "cell_type": "code",
   "execution_count": 3,
   "metadata": {},
   "outputs": [
    {
     "data": {
      "text/plain": [
       "(103030, 23)"
      ]
     },
     "execution_count": 3,
     "metadata": {},
     "output_type": "execute_result"
    }
   ],
   "source": [
    "data.shape"
   ]
  },
  {
   "cell_type": "code",
   "execution_count": 100,
   "metadata": {},
   "outputs": [
    {
     "name": "stdout",
     "output_type": "stream",
     "text": [
      "(69030, 22) (34000, 22) (69030,) (34000,)\n"
     ]
    }
   ],
   "source": [
    "X = data.drop('Score',axis=1)\n",
    "Y = data.Score.values\n",
    "\n",
    "X_train,X_test,y_train,y_test = train_test_split(X,Y,test_size=.33,stratify=Y,random_state=42)\n",
    "print(X_train.shape,X_test.shape,y_train.shape,y_test.shape)"
   ]
  },
  {
   "cell_type": "markdown",
   "metadata": {},
   "source": [
    "# Normalising all the numerical features"
   ]
  },
  {
   "cell_type": "code",
   "execution_count": 101,
   "metadata": {},
   "outputs": [],
   "source": [
    "std_scaler = Normalizer()\n",
    "min_max = MinMaxScaler()\n",
    "\n",
    "#payment_sequential feature\n",
    "payment_sequential_train = std_scaler.fit_transform(X_train.payment_sequential.values.reshape(-1,1))\n",
    "payment_sequential_test = std_scaler.transform(X_test.payment_sequential.values.reshape(-1,1))\n",
    "\n",
    "#payment_installments feature\n",
    "payment_installments_train = std_scaler.fit_transform(X_train.payment_installments.values.reshape(-1,1))\n",
    "payment_installments_test = std_scaler.transform(X_test.payment_installments.values.reshape(-1,1))\n",
    "\n",
    "#Payment value feature\n",
    "payment_value_train = std_scaler.fit_transform(X_train.payment_value.values.reshape(-1,1))\n",
    "payment_value_test = std_scaler.transform(X_test.payment_value.values.reshape(-1,1))\n",
    "\n",
    "\n",
    "#price\n",
    "price_train = std_scaler.fit_transform(X_train.price.values.reshape(-1,1))\n",
    "price_test = std_scaler.transform(X_test.price.values.reshape(-1,1))\n",
    "\n",
    "#freight_value\n",
    "freight_value_train = std_scaler.fit_transform(X_train.freight_value.values.reshape(-1,1))\n",
    "freight_value_test = std_scaler.transform(X_test.freight_value.values.reshape(-1,1))\n",
    "\n",
    "#product_name_length\n",
    "product_name_length_train = std_scaler.fit_transform(X_train.product_name_length.values.reshape(-1,1))\n",
    "product_name_length_test = std_scaler.transform(X_test.product_name_length.values.reshape(-1,1))\n",
    "\n",
    "\n",
    "#product_description_length\n",
    "product_description_length_train = std_scaler.fit_transform(X_train.product_description_length.values.reshape(-1,1))\n",
    "product_description_length_test = std_scaler.transform(X_test.product_description_length.values.reshape(-1,1))\n",
    "\n",
    "\n",
    "#product_photos_qty\n",
    "product_photos_qty_train = std_scaler.fit_transform(X_train.product_photos_qty.values.reshape(-1,1))\n",
    "product_photos_qty_test = std_scaler.transform(X_test.product_photos_qty.values.reshape(-1,1))\n",
    "\n",
    "\n",
    "#delivery_days\n",
    "delivery_days_train = std_scaler.fit_transform(X_train.delivery_days.values.reshape(-1,1))\n",
    "delivery_days_test = std_scaler.transform(X_test.delivery_days.values.reshape(-1,1))\n",
    "\n",
    "\n",
    "#estimated_days\n",
    "estimated_days_train = std_scaler.fit_transform(X_train.estimated_days.values.reshape(-1,1))\n",
    "estimated_days_test = std_scaler.transform(X_test.estimated_days.values.reshape(-1,1))\n",
    "\n",
    "\n",
    "#ships_in\n",
    "ships_in_train = std_scaler.fit_transform(X_train.ships_in.values.reshape(-1,1))\n",
    "ships_in_test = std_scaler.transform(X_test.ships_in.values.reshape(-1,1))\n",
    "\n",
    "#seller_popularity\n",
    "seller_popularity_train = min_max.fit_transform(X_train.seller_popularity.values.reshape(-1,1))\n",
    "seller_popularity_test = min_max.transform(X_test.seller_popularity.values.reshape(-1,1))"
   ]
  },
  {
   "cell_type": "markdown",
   "metadata": {},
   "source": [
    "# Normalising Categorical features"
   ]
  },
  {
   "cell_type": "code",
   "execution_count": 102,
   "metadata": {},
   "outputs": [],
   "source": [
    "#initialising oneHotEncoder\n",
    "\n",
    "onehot = CountVectorizer()\n",
    "cat = OneHotEncoder()\n",
    "#payment_type\n",
    "payment_type_train = onehot.fit_transform(X_train.payment_type.values)\n",
    "payment_type_test = onehot.transform(X_test.payment_type.values)\n",
    "\n",
    "\n",
    "#customer_state\n",
    "customer_state_train = onehot.fit_transform(X_train.customer_state.values)\n",
    "customer_state_test = onehot.transform(X_test.customer_state.values)\n",
    "\n",
    "#seller_state\n",
    "seller_state_train = onehot.fit_transform(X_train.seller_state.values)\n",
    "seller_state_test = onehot.transform(X_test.seller_state.values)\n",
    "\n",
    "\n",
    "#product_category_name\n",
    "product_category_name_train = onehot.fit_transform(X_train.product_category_name.values)\n",
    "product_category_name_test = onehot.transform(X_test.product_category_name.values)\n",
    "\n",
    "\n",
    "#arrival_time\n",
    "arrival_time_train = onehot.fit_transform(X_train.arrival_time.values)\n",
    "arrival_time_test = onehot.transform(X_test.arrival_time.values)\n",
    "\n",
    "#delivery_impression\n",
    "delivery_impression_train = onehot.fit_transform(X_train.delivery_impression.values)\n",
    "delivery_impression_test = onehot.transform(X_test.delivery_impression.values)\n",
    "\n",
    "\n",
    "#estimated_del_impression\n",
    "estimated_del_impression_train = onehot.fit_transform(X_train.estimated_del_impression.values)\n",
    "estimated_del_impression_test = onehot.transform(X_test.estimated_del_impression.values)\n",
    "\n",
    "#ship_impression\n",
    "ship_impression_train = onehot.fit_transform(X_train.ship_impression.values)\n",
    "ship_impression_test = onehot.transform(X_test.ship_impression.values)\n",
    "\n",
    "\n",
    "#existing_cust\n",
    "existing_cust_train = cat.fit_transform(X_train.existing_cust.values.reshape(-1,1))\n",
    "existing_cust_test = cat.transform(X_test.existing_cust.values.reshape(-1,1))"
   ]
  },
  {
   "cell_type": "markdown",
   "metadata": {},
   "source": [
    "**Stacking the data**"
   ]
  },
  {
   "cell_type": "code",
   "execution_count": 103,
   "metadata": {},
   "outputs": [
    {
     "name": "stdout",
     "output_type": "stream",
     "text": [
      "(69030, 153) (34000, 153)\n"
     ]
    }
   ],
   "source": [
    "#stacking up all the encoded features\n",
    "X_train_vec = hstack((payment_sequential_train,payment_installments_train,payment_value_train,price_train,\n",
    "                      freight_value_train,product_name_length_train,product_description_length_train,\n",
    "                      product_photos_qty_train,delivery_days_train,estimated_days_train,ships_in_train,\n",
    "                      payment_type_train,customer_state_train,seller_state_train,product_category_name_train,\n",
    "                      arrival_time_train,delivery_impression_train,estimated_del_impression_train,\n",
    "                     ship_impression_train,seller_popularity_train))\n",
    "\n",
    "X_test_vec = hstack((payment_sequential_test,payment_installments_test,payment_value_test,price_test,\n",
    "                      freight_value_test,product_name_length_test,product_description_length_test,\n",
    "                      product_photos_qty_test,delivery_days_test,estimated_days_test,ships_in_test,\n",
    "                      payment_type_test,customer_state_test,seller_state_test,product_category_name_test,\n",
    "                      arrival_time_test,delivery_impression_test,estimated_del_impression_test,\n",
    "                     ship_impression_test,seller_popularity_test))\n",
    "\n",
    "print(X_train_vec.shape,X_test_vec.shape)"
   ]
  },
  {
   "cell_type": "code",
   "execution_count": 26,
   "metadata": {},
   "outputs": [],
   "source": [
    "import scipy\n",
    "scipy.sparse.save_npz('X_train_vec.npz', X_train_vec)\n",
    "scipy.sparse.save_npz('X_test_vec.npz', X_test_vec)"
   ]
  },
  {
   "cell_type": "code",
   "execution_count": null,
   "metadata": {},
   "outputs": [],
   "source": [
    "pd.DataFrame(y_train).to_csv('train_labels.csv',index=False)\n",
    "pd.DataFrame(y_test).to_csv('test_labels.csv',index=False)"
   ]
  },
  {
   "cell_type": "code",
   "execution_count": 18,
   "metadata": {},
   "outputs": [
    {
     "data": {
      "text/plain": [
       "(69030, 153)"
      ]
     },
     "execution_count": 18,
     "metadata": {},
     "output_type": "execute_result"
    }
   ],
   "source": [
    "tomato = scipy.sparse.load_npz('X_train_vec.npz')\n",
    "tomato.shape"
   ]
  },
  {
   "cell_type": "code",
   "execution_count": 24,
   "metadata": {},
   "outputs": [
    {
     "data": {
      "text/plain": [
       "numpy.float64"
      ]
     },
     "execution_count": 24,
     "metadata": {},
     "output_type": "execute_result"
    }
   ],
   "source": []
  },
  {
   "cell_type": "markdown",
   "metadata": {},
   "source": [
    "# Naive Bayes"
   ]
  },
  {
   "cell_type": "markdown",
   "metadata": {},
   "source": [
    "# Hyper parameter Tuning"
   ]
  },
  {
   "cell_type": "code",
   "execution_count": 30,
   "metadata": {},
   "outputs": [
    {
     "data": {
      "text/plain": [
       "GridSearchCV(cv=3, estimator=MultinomialNB(class_prior=[0.5, 0.5]),\n",
       "             param_grid={'alpha': [0.0001, 0.001, 0.01, 0.1, 1, 10, 100, 1000]},\n",
       "             refit=False, return_train_score=True, scoring='roc_auc')"
      ]
     },
     "execution_count": 30,
     "metadata": {},
     "output_type": "execute_result"
    }
   ],
   "source": [
    "naive = MultinomialNB(class_prior=[0.5,0.5])\n",
    "\n",
    "param = {'alpha': [0.0001,0.001,0.01,0.1,1,10,100,1000]}\n",
    "\n",
    "#for the bow based model\n",
    "NB = GridSearchCV(naive,param,cv=3,refit=False,return_train_score=True,scoring='roc_auc')\n",
    "NB.fit(X_train_vec,y_train)"
   ]
  },
  {
   "cell_type": "code",
   "execution_count": 31,
   "metadata": {},
   "outputs": [
    {
     "data": {
      "text/plain": [
       "{'alpha': 0.1}"
      ]
     },
     "execution_count": 31,
     "metadata": {},
     "output_type": "execute_result"
    }
   ],
   "source": [
    "NB.best_params_"
   ]
  },
  {
   "cell_type": "markdown",
   "metadata": {},
   "source": [
    "# Fitting the Model"
   ]
  },
  {
   "cell_type": "code",
   "execution_count": 32,
   "metadata": {},
   "outputs": [
    {
     "data": {
      "image/png": "[encoded data removed]",
      "text/plain": [
       "<Figure size 432x288 with 1 Axes>"
      ]
     },
     "metadata": {
      "needs_background": "light"
     },
     "output_type": "display_data"
    },
    {
     "name": "stdout",
     "output_type": "stream",
     "text": [
      "Best AUC for the model is 0.694 \n"
     ]
    }
   ],
   "source": [
    "clf = MultinomialNB(alpha=0.0001,class_prior=[0.5,0.5])\n",
    "clf.fit(X_train_vec,y_train)\n",
    "\n",
    "#predicted value of y probabilities\n",
    "y_pred_train = clf.predict_proba(X_train_vec)\n",
    "y_pred_test = clf.predict_proba(X_test_vec)\n",
    "\n",
    "#predicted values of Y labels\n",
    "pred_label_train = clf.predict(X_train_vec)\n",
    "pred_label_test = clf.predict(X_test_vec)\n",
    "\n",
    "#Confusion Matrix\n",
    "cf_matrix_train = confusion_matrix(y_train,pred_label_train)\n",
    "cf_matrix_test = confusion_matrix(y_test,pred_label_test)\n",
    "\n",
    "fpr_train,tpr_train,threshold_train = roc_curve(y_train,y_pred_train[:,1])\n",
    "fpr_test,tpr_test,threshold_test = roc_curve(y_test,y_pred_test[:,1])\n",
    "\n",
    "train_auc = round(auc(fpr_train,tpr_train),3)\n",
    "test_auc = round(auc(fpr_test,tpr_test),3)\n",
    "\n",
    "plt.plot(fpr_train,tpr_train,color='red',label='train-auc = '+str(train_auc))\n",
    "plt.plot(fpr_test,tpr_test,color='blue',label='test-auc = '+str(test_auc))\n",
    "plt.plot(np.array([0,1]),np.array([0,1]),color='black',label='random model auc = '+str(0.5))\n",
    "plt.xlabel('False Positive Rate(FPR)')\n",
    "plt.ylabel('True Positive Rate(TPR)')\n",
    "plt.title('ROC curve')\n",
    "plt.legend()\n",
    "plt.show()\n",
    "print('Best AUC for the model is {} '.format(test_auc))"
   ]
  },
  {
   "cell_type": "code",
   "execution_count": 33,
   "metadata": {},
   "outputs": [
    {
     "data": {
      "image/png": "[encoded data removed]",
      "text/plain": [
       "<Figure size 720x576 with 2 Axes>"
      ]
     },
     "metadata": {
      "needs_background": "light"
     },
     "output_type": "display_data"
    }
   ],
   "source": [
    "#plot confusion matrix\n",
    "plt.figure(figsize=(10,8))\n",
    "sns.heatmap(cf_matrix_train/np.sum(cf_matrix_train), annot=True,fmt='.2%', cmap='Greens')\n",
    "plt.show()"
   ]
  },
  {
   "cell_type": "code",
   "execution_count": 34,
   "metadata": {},
   "outputs": [
    {
     "name": "stdout",
     "output_type": "stream",
     "text": [
      "Train F1_score for this model is :  0.8568\n",
      "Test F1_score for this model is :  0.8575\n"
     ]
    }
   ],
   "source": [
    "#f1 score\n",
    "print('Train F1_score for this model is : ',round(f1_score(y_train,pred_label_train),4))\n",
    "print('Test F1_score for this model is : ',round(f1_score(y_test,pred_label_test),4))"
   ]
  },
  {
   "cell_type": "code",
   "execution_count": 35,
   "metadata": {},
   "outputs": [
    {
     "name": "stdout",
     "output_type": "stream",
     "text": [
      "Train Accuracy score for this model :  0.7674\n",
      "Test Accuracy score for this model :  0.7689\n"
     ]
    }
   ],
   "source": [
    "print('Train Accuracy score for this model : ',round(accuracy_score(y_train,pred_label_train),4))\n",
    "print('Test Accuracy score for this model : ',round(accuracy_score(y_test,pred_label_test),4))"
   ]
  },
  {
   "cell_type": "markdown",
   "metadata": {},
   "source": [
    "# Observations\n",
    "\n",
    "1. Naive bayes performed pretty decent in terms of minimal overfitting in train and test performances.\n",
    "2. Both train and test f1 score was 0.86 and accuracy 77%.\n",
    "3. But the confusion matrix says it has misclassified many points as False Positives.\n",
    "4. AUC score for test data was 0.694."
   ]
  },
  {
   "cell_type": "markdown",
   "metadata": {},
   "source": [
    "# Logistic Regression"
   ]
  },
  {
   "cell_type": "markdown",
   "metadata": {},
   "source": [
    "# Hyper parameter Tuning"
   ]
  },
  {
   "cell_type": "code",
   "execution_count": 36,
   "metadata": {},
   "outputs": [
    {
     "data": {
      "text/plain": [
       "GridSearchCV(cv=3, estimator=LogisticRegression(max_iter=1000),\n",
       "             param_grid={'C': [0.0001, 0.001, 0.01, 0.1, 1, 10, 20, 30]},\n",
       "             refit=False, return_train_score=True, scoring='roc_auc')"
      ]
     },
     "execution_count": 36,
     "metadata": {},
     "output_type": "execute_result"
    }
   ],
   "source": [
    "#we have used max_iter 1000 as it was causing exception while fitting\n",
    "Logi = LogisticRegression(max_iter=1000,solver='lbfgs')\n",
    "\n",
    "param = {'C': [0.0001,0.001,0.01,0.1,1,10,20,30]}\n",
    "\n",
    "#for the bow based model\n",
    "LR = GridSearchCV(Logi,param,cv=3,refit=False,return_train_score=True,scoring='roc_auc')\n",
    "LR.fit(X_train_vec,y_train)"
   ]
  },
  {
   "cell_type": "code",
   "execution_count": 37,
   "metadata": {},
   "outputs": [
    {
     "data": {
      "text/plain": [
       "{'C': 0.1}"
      ]
     },
     "execution_count": 37,
     "metadata": {},
     "output_type": "execute_result"
    }
   ],
   "source": [
    "LR.best_params_"
   ]
  },
  {
   "cell_type": "markdown",
   "metadata": {},
   "source": [
    "**NOTE**\n",
    "\n",
    "* For performance measurement we will not use accuracy as a metric as the data set is highly imbalanced.\n",
    "* We will use AUC score and f1 score as performance metric."
   ]
  },
  {
   "cell_type": "code",
   "execution_count": 38,
   "metadata": {},
   "outputs": [
    {
     "data": {
      "text/plain": [
       "LogisticRegression(C=0.1, max_iter=1000)"
      ]
     },
     "execution_count": 38,
     "metadata": {},
     "output_type": "execute_result"
    }
   ],
   "source": [
    "#model\n",
    "clf = LogisticRegression(C=0.1,max_iter=1000,solver='lbfgs')\n",
    "clf.fit(X_train_vec,y_train)"
   ]
  },
  {
   "cell_type": "code",
   "execution_count": 39,
   "metadata": {},
   "outputs": [
    {
     "data": {
      "image/png": "[encoded data removed]",
      "text/plain": [
       "<Figure size 432x288 with 1 Axes>"
      ]
     },
     "metadata": {
      "needs_background": "light"
     },
     "output_type": "display_data"
    },
    {
     "name": "stdout",
     "output_type": "stream",
     "text": [
      "Best AUC for the model is 0.699 \n"
     ]
    }
   ],
   "source": [
    "#predicted value of y probabilities\n",
    "y_pred_train = clf.predict_proba(X_train_vec)\n",
    "y_pred_test = clf.predict_proba(X_test_vec)\n",
    "\n",
    "#predicted values of Y labels\n",
    "pred_label_train = clf.predict(X_train_vec)\n",
    "pred_label_test = clf.predict(X_test_vec)\n",
    "\n",
    "#Confusion Matrix\n",
    "cf_matrix_train = confusion_matrix(y_train,pred_label_train)\n",
    "cf_matrix_test = confusion_matrix(y_test,pred_label_test)\n",
    "\n",
    "fpr_train,tpr_train,threshold_train = roc_curve(y_train,y_pred_train[:,1])\n",
    "fpr_test,tpr_test,threshold_test = roc_curve(y_test,y_pred_test[:,1])\n",
    "\n",
    "train_auc = round(auc(fpr_train,tpr_train),3)\n",
    "test_auc = round(auc(fpr_test,tpr_test),3)\n",
    "\n",
    "plt.plot(fpr_train,tpr_train,color='red',label='train-auc = '+str(train_auc))\n",
    "plt.plot(fpr_test,tpr_test,color='blue',label='test-auc = '+str(test_auc))\n",
    "plt.plot(np.array([0,1]),np.array([0,1]),color='black',label='random model auc = '+str(0.5))\n",
    "plt.xlabel('False Positive Rate(FPR)')\n",
    "plt.ylabel('True Positive Rate(TPR)')\n",
    "plt.title('ROC curve')\n",
    "plt.legend()\n",
    "plt.show()\n",
    "print('Best AUC for the model is {} '.format(test_auc))"
   ]
  },
  {
   "cell_type": "code",
   "execution_count": 40,
   "metadata": {},
   "outputs": [
    {
     "data": {
      "image/png": "[encoded data removed]",
      "text/plain": [
       "<Figure size 720x576 with 2 Axes>"
      ]
     },
     "metadata": {
      "needs_background": "light"
     },
     "output_type": "display_data"
    }
   ],
   "source": [
    "#plot confusion matrix\n",
    "plt.figure(figsize=(10,8))\n",
    "sns.heatmap(cf_matrix_train/np.sum(cf_matrix_train), annot=True,fmt='.2%', cmap='Greens')\n",
    "plt.show()"
   ]
  },
  {
   "cell_type": "code",
   "execution_count": 41,
   "metadata": {},
   "outputs": [
    {
     "name": "stdout",
     "output_type": "stream",
     "text": [
      "Train F1_score for this model is :  0.9199\n",
      "Test F1_score for this model is :  0.9217\n"
     ]
    }
   ],
   "source": [
    "#f1 score\n",
    "print('Train F1_score for this model is : ',round(f1_score(y_train,pred_label_train),4))\n",
    "print('Test F1_score for this model is : ',round(f1_score(y_test,pred_label_test),4))"
   ]
  },
  {
   "cell_type": "code",
   "execution_count": 42,
   "metadata": {},
   "outputs": [
    {
     "name": "stdout",
     "output_type": "stream",
     "text": [
      "Train Accuracy score for this model :  0.8572\n",
      "Test Accuracy score for this model :  0.8605\n"
     ]
    }
   ],
   "source": [
    "print('Train Accuracy score for this model : ',round(accuracy_score(y_train,pred_label_train),4))\n",
    "print('Test Accuracy score for this model : ',round(accuracy_score(y_test,pred_label_test),4))"
   ]
  },
  {
   "cell_type": "markdown",
   "metadata": {},
   "source": [
    "# Observations\n",
    "\n",
    "1. Logistic regression performs considerably better than Naive bayes in terms of f1 score, however AUC score being almost the same.\n",
    "2. Misclassification of False positives reduced which resulted in the increase of f1 score of 92%.\n",
    "3. Accuracy was 86% for both train and test which shows the model doesn't overfit at all."
   ]
  },
  {
   "cell_type": "markdown",
   "metadata": {},
   "source": [
    "# Decision Tree"
   ]
  },
  {
   "cell_type": "markdown",
   "metadata": {},
   "source": [
    "# HyperParmater tuning"
   ]
  },
  {
   "cell_type": "code",
   "execution_count": 43,
   "metadata": {},
   "outputs": [
    {
     "data": {
      "text/plain": [
       "GridSearchCV(cv=3, estimator=DecisionTreeClassifier(class_weight='balanced'),\n",
       "             param_grid={'max_depth': [1, 5, 10, 15, 20],\n",
       "                         'min_samples_split': [5, 10, 100, 300, 500, 1000]},\n",
       "             refit=False, return_train_score=True, scoring='roc_auc')"
      ]
     },
     "execution_count": 43,
     "metadata": {},
     "output_type": "execute_result"
    }
   ],
   "source": [
    "#model initialize\n",
    "DT = DecisionTreeClassifier(class_weight='balanced')\n",
    "\n",
    "#hyper parameters\n",
    "param = {'max_depth':  [1, 5,10,15,20], 'min_samples_split': [5, 10, 100, 300,500,1000]}\n",
    "\n",
    "#Grid search CV\n",
    "DT = GridSearchCV(DT,param,cv=3,refit=False,return_train_score=True,scoring='roc_auc')\n",
    "DT.fit(X_train_vec,y_train)"
   ]
  },
  {
   "cell_type": "code",
   "execution_count": 44,
   "metadata": {},
   "outputs": [
    {
     "data": {
      "text/plain": [
       "{'max_depth': 20, 'min_samples_split': 300}"
      ]
     },
     "execution_count": 44,
     "metadata": {},
     "output_type": "execute_result"
    }
   ],
   "source": [
    "#best params\n",
    "DT.best_params_"
   ]
  },
  {
   "cell_type": "code",
   "execution_count": 73,
   "metadata": {},
   "outputs": [
    {
     "data": {
      "image/png": "[encoded data removed]",
      "text/plain": [
       "<Figure size 432x288 with 1 Axes>"
      ]
     },
     "metadata": {
      "needs_background": "light"
     },
     "output_type": "display_data"
    },
    {
     "name": "stdout",
     "output_type": "stream",
     "text": [
      "Best AUC for the model is 0.708 \n"
     ]
    }
   ],
   "source": [
    "#model\n",
    "clf = DecisionTreeClassifier(class_weight='balanced',max_depth=20,min_samples_split=300)\n",
    "clf.fit(X_train_vec,y_train)\n",
    "\n",
    "\n",
    "#predicted value of y probabilities\n",
    "y_pred_train = clf.predict_proba(X_train_vec)\n",
    "y_pred_test = clf.predict_proba(X_test_vec)\n",
    "\n",
    "#predicted values of Y labels\n",
    "pred_label_train = clf.predict(X_train_vec)\n",
    "pred_label_test = clf.predict(X_test_vec)\n",
    "\n",
    "#Confusion Matrix\n",
    "cf_matrix_train = confusion_matrix(y_train,pred_label_train)\n",
    "cf_matrix_test = confusion_matrix(y_test,pred_label_test)\n",
    "\n",
    "#taking the probabilit scores instead of the predicted label\n",
    "#predict_proba returns probabilty scores which is in the 2nd column thus taking the second column\n",
    "fpr_train,tpr_train,threshold_train = roc_curve(y_train,y_pred_train[:,1])\n",
    "fpr_test,tpr_test,threshold_test = roc_curve(y_test,y_pred_test[:,1])\n",
    "\n",
    "train_auc = round(auc(fpr_train,tpr_train),3)\n",
    "test_auc = round(auc(fpr_test,tpr_test),3)\n",
    "\n",
    "plt.plot(fpr_train,tpr_train,color='red',label='train-auc = '+str(train_auc))\n",
    "plt.plot(fpr_test,tpr_test,color='blue',label='test-auc = '+str(test_auc))\n",
    "plt.plot(np.array([0,1]),np.array([0,1]),color='black',label='random model auc = '+str(0.5))\n",
    "plt.xlabel('False Positive Rate(FPR)')\n",
    "plt.ylabel('True Positive Rate(TPR)')\n",
    "plt.title('ROC curve')\n",
    "plt.legend()\n",
    "plt.show()\n",
    "print('Best AUC for the model is {} '.format(test_auc))"
   ]
  },
  {
   "cell_type": "code",
   "execution_count": 46,
   "metadata": {},
   "outputs": [
    {
     "data": {
      "image/png": "[encoded data removed]",
      "text/plain": [
       "<Figure size 720x576 with 2 Axes>"
      ]
     },
     "metadata": {
      "needs_background": "light"
     },
     "output_type": "display_data"
    }
   ],
   "source": [
    "#plot confusion matrix\n",
    "plt.figure(figsize=(10,8))\n",
    "sns.heatmap(cf_matrix_train/np.sum(cf_matrix_train), annot=True,fmt='.2%', cmap='Greens')\n",
    "plt.show()"
   ]
  },
  {
   "cell_type": "code",
   "execution_count": 47,
   "metadata": {},
   "outputs": [
    {
     "name": "stdout",
     "output_type": "stream",
     "text": [
      "Train F1_score for this model is :  0.8146\n",
      "Test F1_score for this model is :  0.8031\n"
     ]
    }
   ],
   "source": [
    "#f1 score\n",
    "print('Train F1_score for this model is : ',round(f1_score(y_train,pred_label_train),4))\n",
    "print('Test F1_score for this model is : ',round(f1_score(y_test,pred_label_test),4))"
   ]
  },
  {
   "cell_type": "code",
   "execution_count": 48,
   "metadata": {},
   "outputs": [
    {
     "name": "stdout",
     "output_type": "stream",
     "text": [
      "Train Accuracy score for this model :  0.7197\n",
      "Test Accuracy score for this model :  0.7021\n"
     ]
    }
   ],
   "source": [
    "print('Train Accuracy score for this model : ',round(accuracy_score(y_train,pred_label_train),4))\n",
    "print('Test Accuracy score for this model : ',round(accuracy_score(y_test,pred_label_test),4))"
   ]
  },
  {
   "cell_type": "markdown",
   "metadata": {},
   "source": [
    "# Observations\n",
    "\n",
    "1. Decision Tree does nothing better interms of both f1 score , auc score and accuracy comes out to be 0.708 and 70%.\n",
    "2. It misclassfied False Positives to a lot.\n",
    "3. Model doesn't overfit but doesn't perform better either."
   ]
  },
  {
   "cell_type": "markdown",
   "metadata": {},
   "source": [
    "# Random Forest"
   ]
  },
  {
   "cell_type": "markdown",
   "metadata": {},
   "source": [
    "# Hyperparameter Tuning"
   ]
  },
  {
   "cell_type": "code",
   "execution_count": 49,
   "metadata": {},
   "outputs": [
    {
     "name": "stdout",
     "output_type": "stream",
     "text": [
      "Fitting 5 folds for each of 15 candidates, totalling 75 fits\n"
     ]
    },
    {
     "name": "stderr",
     "output_type": "stream",
     "text": [
      "[Parallel(n_jobs=-1)]: Using backend LokyBackend with 8 concurrent workers.\n",
      "[Parallel(n_jobs=-1)]: Done  34 tasks      | elapsed:   34.7s\n",
      "[Parallel(n_jobs=-1)]: Done  75 out of  75 | elapsed:  1.5min finished\n"
     ]
    },
    {
     "data": {
      "text/plain": [
       "GridSearchCV(cv=5, estimator=RandomForestClassifier(class_weight='balanced'),\n",
       "             n_jobs=-1,\n",
       "             param_grid={'max_depth': [5, 7, 10],\n",
       "                         'min_samples_split': [5, 10, 30, 50, 100]},\n",
       "             refit=False, return_train_score=True, scoring='roc_auc',\n",
       "             verbose=1)"
      ]
     },
     "execution_count": 49,
     "metadata": {},
     "output_type": "execute_result"
    }
   ],
   "source": [
    "#param grid\n",
    "#we have limit max_depth to 10 so that the model doesn't overfit\n",
    "param = { 'min_samples_split':[5,10,30,50,100],'max_depth':[5,7,10]}\n",
    "\n",
    "#Random forest classifier\n",
    "RFclf = RandomForestClassifier(class_weight='balanced')\n",
    "\n",
    "#using grid search cv to tune parameters\n",
    "RF = GridSearchCV(RFclf,param,cv=5,refit=False,n_jobs=-1,verbose=1,return_train_score=True,scoring='roc_auc')\n",
    "RF.fit(X_train_vec,y_train)"
   ]
  },
  {
   "cell_type": "code",
   "execution_count": 50,
   "metadata": {},
   "outputs": [
    {
     "data": {
      "text/plain": [
       "{'max_depth': 10, 'min_samples_split': 5}"
      ]
     },
     "execution_count": 50,
     "metadata": {},
     "output_type": "execute_result"
    }
   ],
   "source": [
    "RF.best_params_"
   ]
  },
  {
   "cell_type": "code",
   "execution_count": 51,
   "metadata": {},
   "outputs": [
    {
     "data": {
      "image/png": "[encoded data removed]",
      "text/plain": [
       "<Figure size 432x288 with 1 Axes>"
      ]
     },
     "metadata": {
      "needs_background": "light"
     },
     "output_type": "display_data"
    },
    {
     "name": "stdout",
     "output_type": "stream",
     "text": [
      "Best AUC for the model is 0.718 \n"
     ]
    }
   ],
   "source": [
    "#model\n",
    "clf = RandomForestClassifier(class_weight='balanced',max_depth=10,min_samples_split=5)\n",
    "clf.fit(X_train_vec,y_train)\n",
    "\n",
    "\n",
    "#predicted value of y probabilities\n",
    "y_pred_train = clf.predict_proba(X_train_vec)\n",
    "y_pred_test = clf.predict_proba(X_test_vec)\n",
    "\n",
    "#predicted values of Y labels\n",
    "pred_label_train = clf.predict(X_train_vec)\n",
    "pred_label_test = clf.predict(X_test_vec)\n",
    "\n",
    "#Confusion Matrix\n",
    "cf_matrix_train = confusion_matrix(y_train,pred_label_train)\n",
    "cf_matrix_test = confusion_matrix(y_test,pred_label_test)\n",
    "\n",
    "#taking the probabilit scores instead of the predicted label\n",
    "#predict_proba returns probabilty scores which is in the 2nd column thus taking the second column\n",
    "fpr_train,tpr_train,threshold_train = roc_curve(y_train,y_pred_train[:,1])\n",
    "fpr_test,tpr_test,threshold_test = roc_curve(y_test,y_pred_test[:,1])\n",
    "\n",
    "train_auc = round(auc(fpr_train,tpr_train),3)\n",
    "test_auc = round(auc(fpr_test,tpr_test),3)\n",
    "\n",
    "plt.plot(fpr_train,tpr_train,color='red',label='train-auc = '+str(train_auc))\n",
    "plt.plot(fpr_test,tpr_test,color='blue',label='test-auc = '+str(test_auc))\n",
    "plt.plot(np.array([0,1]),np.array([0,1]),color='black',label='random model auc = '+str(0.5))\n",
    "plt.xlabel('False Positive Rate(FPR)')\n",
    "plt.ylabel('True Positive Rate(TPR)')\n",
    "plt.title('ROC curve')\n",
    "plt.legend()\n",
    "plt.show()\n",
    "print('Best AUC for the model is {} '.format(test_auc))"
   ]
  },
  {
   "cell_type": "code",
   "execution_count": 52,
   "metadata": {},
   "outputs": [
    {
     "data": {
      "image/png": "[encoded data removed]",
      "text/plain": [
       "<Figure size 720x576 with 2 Axes>"
      ]
     },
     "metadata": {
      "needs_background": "light"
     },
     "output_type": "display_data"
    }
   ],
   "source": [
    "#plot confusion matrix\n",
    "plt.figure(figsize=(10,8))\n",
    "sns.heatmap(cf_matrix_train/np.sum(cf_matrix_train), annot=True,fmt='.2%', cmap='Greens')\n",
    "plt.show()"
   ]
  },
  {
   "cell_type": "code",
   "execution_count": 53,
   "metadata": {},
   "outputs": [
    {
     "name": "stdout",
     "output_type": "stream",
     "text": [
      "Train F1_score for this model is :  0.9029\n",
      "Test F1_score for this model is :  0.9013\n"
     ]
    }
   ],
   "source": [
    "#f1 score\n",
    "print('Train F1_score for this model is : ',round(f1_score(y_train,pred_label_train),4))\n",
    "print('Test F1_score for this model is : ',round(f1_score(y_test,pred_label_test),4))"
   ]
  },
  {
   "cell_type": "code",
   "execution_count": 54,
   "metadata": {},
   "outputs": [
    {
     "name": "stdout",
     "output_type": "stream",
     "text": [
      "Train Accuracy score for this model :  0.8341\n",
      "Test Accuracy score for this model :  0.8315\n"
     ]
    }
   ],
   "source": [
    "print('Train Accuracy score for this model : ',round(accuracy_score(y_train,pred_label_train),4))\n",
    "print('Test Accuracy score for this model : ',round(accuracy_score(y_test,pred_label_test),4))"
   ]
  },
  {
   "cell_type": "markdown",
   "metadata": {},
   "source": [
    "# Observations\n",
    "\n",
    "1. Random forest performs better than logistic regression in terms of f1 score and accuracy.\n",
    "2. It gives an f1 score of 90.13% and doesn't seem to overfit.\n",
    "3. Misclassification rate is still not that great.\n",
    "4. AUC is score is 0.718\n",
    "5. Accuracy score is 83%."
   ]
  },
  {
   "cell_type": "markdown",
   "metadata": {},
   "source": [
    "# GBDT"
   ]
  },
  {
   "cell_type": "markdown",
   "metadata": {},
   "source": [
    "# Hyper parameter tuning"
   ]
  },
  {
   "cell_type": "code",
   "execution_count": 66,
   "metadata": {},
   "outputs": [
    {
     "data": {
      "text/plain": [
       "GridSearchCV(cv=5, estimator=RandomForestClassifier(class_weight='balanced'),\n",
       "             param_grid={'max_depth': [3, 5, 7, 8],\n",
       "                         'min_samples_split': [5, 10, 30, 50]},\n",
       "             refit=False, return_train_score=True, scoring='roc_auc')"
      ]
     },
     "execution_count": 66,
     "metadata": {},
     "output_type": "execute_result"
    }
   ],
   "source": [
    "#param grid\n",
    "#we have limit max_depth to 8 so that the model doesn't overfit\n",
    "param = { 'min_samples_split' : [5,10,30,50],'max_depth' : [3,5,7,8]}\n",
    "\n",
    "GBDTclf = GradientBoostingClassifier()\n",
    "\n",
    "clf = GridSearchCV(RFclf,param,cv=5,refit=False,return_train_score=True,scoring='roc_auc')\n",
    "clf.fit(X_train_vec,y_train)"
   ]
  },
  {
   "cell_type": "code",
   "execution_count": 67,
   "metadata": {},
   "outputs": [
    {
     "data": {
      "text/plain": [
       "{'max_depth': 8, 'min_samples_split': 10}"
      ]
     },
     "execution_count": 67,
     "metadata": {},
     "output_type": "execute_result"
    }
   ],
   "source": [
    "#best parameters\n",
    "clf.best_params_"
   ]
  },
  {
   "cell_type": "code",
   "execution_count": 104,
   "metadata": {},
   "outputs": [],
   "source": [
    "import pickle"
   ]
  },
  {
   "cell_type": "code",
   "execution_count": 108,
   "metadata": {},
   "outputs": [
    {
     "data": {
      "image/png": "[encoded data removed]",
      "text/plain": [
       "<Figure size 432x288 with 1 Axes>"
      ]
     },
     "metadata": {
      "needs_background": "light"
     },
     "output_type": "display_data"
    },
    {
     "name": "stdout",
     "output_type": "stream",
     "text": [
      "Best AUC for the model is 0.744 \n"
     ]
    }
   ],
   "source": [
    "#Model\n",
    "clf = GradientBoostingClassifier(max_depth=8,min_samples_split=5)\n",
    "clf.fit(X_train_vec,y_train)\n",
    "\n",
    "# save the model to disk\n",
    "Pkl_Filename = \"final_model.pkl\"  \n",
    "with open(Pkl_Filename, 'wb') as file:  \n",
    "    pickle.dump(clf, file)\n",
    "\n",
    "#predicted value of y probabilities\n",
    "y_pred_train = clf.predict_proba(X_train_vec)\n",
    "y_pred_test = clf.predict_proba(X_test_vec)\n",
    "\n",
    "#predicted values of Y labels\n",
    "pred_label_train = clf.predict(X_train_vec)\n",
    "pred_label_test = clf.predict(X_test_vec)\n",
    "\n",
    "#Confusion Matrix\n",
    "cf_matrix_train = confusion_matrix(y_train,pred_label_train)\n",
    "cf_matrix_test = confusion_matrix(y_test,pred_label_test)\n",
    "\n",
    "#taking the probabilit scores instead of the predicted label\n",
    "#predict_proba returns probabilty scores which is in the 2nd column thus taking the second column\n",
    "fpr_train,tpr_train,threshold_train = roc_curve(y_train,y_pred_train[:,1])\n",
    "fpr_test,tpr_test,threshold_test = roc_curve(y_test,y_pred_test[:,1])\n",
    "\n",
    "train_auc = round(auc(fpr_train,tpr_train),3)\n",
    "test_auc = round(auc(fpr_test,tpr_test),3)\n",
    "\n",
    "plt.plot(fpr_train,tpr_train,color='red',label='train-auc = '+str(train_auc))\n",
    "plt.plot(fpr_test,tpr_test,color='blue',label='test-auc = '+str(test_auc))\n",
    "plt.plot(np.array([0,1]),np.array([0,1]),color='black',label='random model auc = '+str(0.5))\n",
    "plt.xlabel('False Positive Rate(FPR)')\n",
    "plt.ylabel('True Positive Rate(TPR)')\n",
    "plt.title('ROC curve')\n",
    "plt.legend()\n",
    "plt.show()\n",
    "print('Best AUC for the model is {} '.format(test_auc))"
   ]
  },
  {
   "cell_type": "code",
   "execution_count": 69,
   "metadata": {},
   "outputs": [
    {
     "data": {
      "image/png": "[encoded data removed]",
      "text/plain": [
       "<Figure size 720x576 with 2 Axes>"
      ]
     },
     "metadata": {
      "needs_background": "light"
     },
     "output_type": "display_data"
    }
   ],
   "source": [
    "#plot confusion matrix\n",
    "plt.figure(figsize=(10,8))\n",
    "sns.heatmap(cf_matrix_train/np.sum(cf_matrix_train), annot=True,fmt='.2%', cmap='Greens')\n",
    "plt.show()"
   ]
  },
  {
   "cell_type": "code",
   "execution_count": 70,
   "metadata": {},
   "outputs": [
    {
     "name": "stdout",
     "output_type": "stream",
     "text": [
      "Train F1_score for this model is :  0.9293\n",
      "Test F1_score for this model is :  0.9243\n"
     ]
    }
   ],
   "source": [
    "#f1 score\n",
    "print('Train F1_score for this model is : ',round(f1_score(y_train,pred_label_train),4))\n",
    "print('Test F1_score for this model is : ',round(f1_score(y_test,pred_label_test),4))"
   ]
  },
  {
   "cell_type": "code",
   "execution_count": 71,
   "metadata": {},
   "outputs": [
    {
     "name": "stdout",
     "output_type": "stream",
     "text": [
      "Train Accuracy score for this model :  0.8741\n",
      "Test Accuracy score for this model :  0.8651\n"
     ]
    }
   ],
   "source": [
    "print('Train Accuracy score for this model : ',round(accuracy_score(y_train,pred_label_train),4))\n",
    "print('Test Accuracy score for this model : ',round(accuracy_score(y_test,pred_label_test),4))"
   ]
  },
  {
   "cell_type": "markdown",
   "metadata": {},
   "source": [
    "# Observations\n",
    "\n",
    "1. Gradient Boosted classifier results the best f1 score of 0.9243 and auc score of 0.745.\n",
    "2. Misclassification of False Positives and True negetives is also reduced to 11% also true positive rate is 83%.\n",
    "3. Accuracy score is 86% for test and 87% for train data.\n",
    "4. Model does overfit a slight comapred to rest of the models."
   ]
  },
  {
   "cell_type": "markdown",
   "metadata": {},
   "source": [
    "# Standard Neural Network based model\n"
   ]
  },
  {
   "cell_type": "code",
   "execution_count": 15,
   "metadata": {},
   "outputs": [],
   "source": [
    "#setting input length to number of features\n",
    "input_length = X_train_vec.shape[1]"
   ]
  },
  {
   "cell_type": "code",
   "execution_count": 19,
   "metadata": {},
   "outputs": [],
   "source": [
    "##imports\n",
    "import os\n",
    "import sys\n",
    "import os\n",
    "import random as rn\n",
    "import numpy as np\n",
    "import pandas as pd\n",
    "import datetime\n",
    "import tensorflow as tf\n",
    "import pickle\n",
    "import matplotlib.pyplot as plt\n",
    "import seaborn as sns\n",
    "import scipy as sp\n",
    "from tensorflow.keras.callbacks import EarlyStopping\n",
    "from sklearn.metrics import roc_auc_score\n",
    "from keras.utils import np_utils\n",
    "from tensorflow.keras.regularizers import l2\n",
    "from keras.layers.normalization import BatchNormalization\n",
    "from tensorflow.keras.layers import Dense, Input, GlobalMaxPool1D,Conv1D, MaxPool1D, Embedding,concatenate,Flatten,Dropout,LSTM,Concatenate,LeakyReLU\n",
    "from tensorflow.keras.models import Model"
   ]
  },
  {
   "cell_type": "code",
   "execution_count": 81,
   "metadata": {},
   "outputs": [
    {
     "name": "stdout",
     "output_type": "stream",
     "text": [
      "Model: \"model\"\n",
      "_________________________________________________________________\n",
      "Layer (type)                 Output Shape              Param #   \n",
      "=================================================================\n",
      "input_1 (InputLayer)         [(None, 153, 1)]          0         \n",
      "_________________________________________________________________\n",
      "Conv1 (Conv1D)               (None, 151, 10)           40        \n",
      "_________________________________________________________________\n",
      "Conv2 (Conv1D)               (None, 149, 10)           310       \n",
      "_________________________________________________________________\n",
      "Conv3 (Conv1D)               (None, 147, 10)           310       \n",
      "_________________________________________________________________\n",
      "max_pooling1d (MaxPooling1D) (None, 29, 10)            0         \n",
      "_________________________________________________________________\n",
      "flatten (Flatten)            (None, 290)               0         \n",
      "_________________________________________________________________\n",
      "batch_normalization (BatchNo (None, 290)               1160      \n",
      "_________________________________________________________________\n",
      "FC1 (Dense)                  (None, 64)                18624     \n",
      "_________________________________________________________________\n",
      "dropout (Dropout)            (None, 64)                0         \n",
      "_________________________________________________________________\n",
      "batch_normalization_1 (Batch (None, 64)                256       \n",
      "_________________________________________________________________\n",
      "FC3 (Dense)                  (None, 32)                2080      \n",
      "_________________________________________________________________\n",
      "Output (Dense)               (None, 2)                 66        \n",
      "=================================================================\n",
      "Total params: 22,846\n",
      "Trainable params: 22,138\n",
      "Non-trainable params: 708\n",
      "_________________________________________________________________\n"
     ]
    }
   ],
   "source": [
    "##create an NN and train\n",
    "os.environ['PYTHONHASHSEED'] = '0'\n",
    "## Set the random seed values to regenerate the model.\n",
    "tf.keras.backend.clear_session()\n",
    "np.random.seed(0)\n",
    "rn.seed(0)\n",
    "\n",
    "#input layer\n",
    "input_layer = Input(shape=(input_length,1))\n",
    "\n",
    "#Conv layer\n",
    "Conv1 = Conv1D(filters=10,kernel_size=3,strides=1,padding='valid',activation='relu',kernel_initializer='he_normal',name='Conv1')(input_layer)\n",
    "\n",
    "#Conv layer\n",
    "Conv2 = Conv1D(filters=10,kernel_size=3,strides=1,padding='valid',activation='relu',kernel_initializer='he_normal',name='Conv2')(Conv1)\n",
    "\n",
    "#Conv layer\n",
    "Conv3 = Conv1D(filters=10,kernel_size=3,strides=1,padding='valid',activation='relu',kernel_initializer='he_normal',name='Conv3')(Conv2)\n",
    "\n",
    "\n",
    "#MaxPool Layer\n",
    "pool1 = MaxPool1D(5)(Conv3)\n",
    "\n",
    "#Flatten Layer\n",
    "flatten_1 = Flatten()(pool1)\n",
    "\n",
    "#Batch Normalisation to ensure the training is fast\n",
    "BM = BatchNormalization()(flatten_1)\n",
    "\n",
    "#FC layer\n",
    "FC1 = Dense(units=64,activation='relu',kernel_initializer='he_normal',kernel_regularizer=l2(0.001),name='FC1')(BM)\n",
    "\n",
    "#dropout\n",
    "drop1 = Dropout(rate = 0.5)(FC1)\n",
    "\n",
    "#Batch Noramlisation\n",
    "BM2 = BatchNormalization()(drop1)\n",
    "\n",
    "#FC layer\n",
    "FC3 = Dense(units=32,activation='relu',kernel_initializer='he_normal',kernel_regularizer=l2(0.001),name='FC3')(BM2)\n",
    "# FC3= LeakyReLU(alpha = 0.3)(FC3)\n",
    "\n",
    "#output layer\n",
    "Out = Dense(units=2,activation='softmax',name='Output')(FC3)\n",
    "\n",
    "model = Model(inputs=input_layer,outputs=Out)\n",
    "\n",
    "\n",
    "model.summary()\n",
    "# tf.keras.utils.plot_model(model, \"model_3.png\", show_shapes=True)\n"
   ]
  },
  {
   "cell_type": "code",
   "execution_count": 29,
   "metadata": {},
   "outputs": [],
   "source": [
    "X_train_vec = np.expand_dims(X_train_vec.toarray(),2)\n",
    "X_test_vec = np.expand_dims(X_test_vec.toarray(),2)"
   ]
  },
  {
   "cell_type": "code",
   "execution_count": 71,
   "metadata": {},
   "outputs": [],
   "source": [
    "y_train = tf.keras.utils.to_categorical(y_train)"
   ]
  },
  {
   "cell_type": "code",
   "execution_count": 72,
   "metadata": {},
   "outputs": [],
   "source": [
    "y_test = tf.keras.utils.to_categorical(y_test)"
   ]
  },
  {
   "cell_type": "code",
   "execution_count": 37,
   "metadata": {},
   "outputs": [],
   "source": [
    "#auc roc score can be undefined if no data from one class is present in the batch\n",
    "#so handling such case with custom auc_roc function which returns [0.5,0.5] if there are no points for one class\n",
    "from sklearn.metrics import roc_auc_score\n",
    "def auroc(y_true, y_pred):\n",
    "    return tf.numpy_function(roc_auc_score, (y_true, y_pred), tf.double)"
   ]
  },
  {
   "cell_type": "code",
   "execution_count": 38,
   "metadata": {},
   "outputs": [
    {
     "name": "stdout",
     "output_type": "stream",
     "text": [
      "WARNING:tensorflow:`write_grads` will be ignored in TensorFlow 2.0 for the `TensorBoard` Callback.\n"
     ]
    }
   ],
   "source": [
    "#callbacks\n",
    "from tensorflow.keras.callbacks import *\n",
    "\n",
    "#TensorBoard Callback\n",
    "log_dir=\"logs/fit/\" + datetime.datetime.now().strftime(\"%Y%m%d-%H%M%S\")\n",
    "\n",
    "reduce_lr_1 = ReduceLROnPlateau(monitor='val_loss', factor=0.2,patience=1, min_lr=0.002,verbose = 1)\n",
    "tensorboard_callback = TensorBoard(log_dir=log_dir,histogram_freq=1, write_graph=True,write_grads=True)"
   ]
  },
  {
   "cell_type": "code",
   "execution_count": 82,
   "metadata": {},
   "outputs": [
    {
     "name": "stdout",
     "output_type": "stream",
     "text": [
      "Epoch 1/20\n",
      "  2/135 [..............................] - ETA: 1:33 - loss: 1.1479 - auroc: 0.5210WARNING:tensorflow:Method (on_train_batch_end) is slow compared to the batch update (0.693125). Check your callbacks.\n",
      "135/135 [==============================] - 6s 46ms/step - loss: 0.6640 - auroc: 0.5949 - val_loss: 0.5875 - val_auroc: 0.5805 - lr: 0.0010\n",
      "Epoch 2/20\n",
      "135/135 [==============================] - 6s 41ms/step - loss: 0.5534 - auroc: 0.6435 - val_loss: 0.5400 - val_auroc: 0.6444 - lr: 0.0010\n",
      "Epoch 3/20\n",
      "135/135 [==============================] - 6s 42ms/step - loss: 0.5213 - auroc: 0.6500 - val_loss: 0.4987 - val_auroc: 0.6719 - lr: 0.0010\n",
      "Epoch 4/20\n",
      "135/135 [==============================] - 6s 42ms/step - loss: 0.4945 - auroc: 0.6601 - val_loss: 0.4753 - val_auroc: 0.6826 - lr: 0.0010\n",
      "Epoch 5/20\n",
      "135/135 [==============================] - 6s 41ms/step - loss: 0.4748 - auroc: 0.6673 - val_loss: 0.4565 - val_auroc: 0.6890 - lr: 0.0010\n",
      "Epoch 6/20\n",
      "135/135 [==============================] - 6s 41ms/step - loss: 0.4574 - auroc: 0.6768 - val_loss: 0.4451 - val_auroc: 0.6943 - lr: 0.0010\n",
      "Epoch 7/20\n",
      "135/135 [==============================] - 6s 41ms/step - loss: 0.4463 - auroc: 0.6763 - val_loss: 0.4319 - val_auroc: 0.6955 - lr: 0.0010\n",
      "Epoch 8/20\n",
      "135/135 [==============================] - 5s 40ms/step - loss: 0.4365 - auroc: 0.6783 - val_loss: 0.4222 - val_auroc: 0.7000 - lr: 0.0010\n",
      "Epoch 9/20\n",
      "135/135 [==============================] - 5s 40ms/step - loss: 0.4284 - auroc: 0.6824 - val_loss: 0.4180 - val_auroc: 0.6975 - lr: 0.0010\n",
      "Epoch 10/20\n",
      "135/135 [==============================] - 5s 41ms/step - loss: 0.4223 - auroc: 0.6858 - val_loss: 0.4116 - val_auroc: 0.7049 - lr: 0.0010\n",
      "Epoch 11/20\n",
      "135/135 [==============================] - 5s 41ms/step - loss: 0.4168 - auroc: 0.6902 - val_loss: 0.4080 - val_auroc: 0.7004 - lr: 0.0010\n",
      "Epoch 12/20\n",
      "135/135 [==============================] - 6s 41ms/step - loss: 0.4136 - auroc: 0.6878 - val_loss: 0.4029 - val_auroc: 0.7056 - lr: 0.0010\n",
      "Epoch 13/20\n",
      "135/135 [==============================] - 6s 41ms/step - loss: 0.4100 - auroc: 0.6865 - val_loss: 0.4004 - val_auroc: 0.7033 - lr: 0.0010\n",
      "Epoch 14/20\n",
      "135/135 [==============================] - 6s 41ms/step - loss: 0.4074 - auroc: 0.6916 - val_loss: 0.4011 - val_auroc: 0.7013 - lr: 0.0010\n",
      "Epoch 15/20\n",
      "135/135 [==============================] - 6s 42ms/step - loss: 0.4057 - auroc: 0.6910 - val_loss: 0.3974 - val_auroc: 0.7041 - lr: 0.0010\n",
      "Epoch 16/20\n",
      "135/135 [==============================] - 6s 42ms/step - loss: 0.4031 - auroc: 0.6964 - val_loss: 0.3988 - val_auroc: 0.7023 - lr: 0.0010\n",
      "Epoch 17/20\n",
      "135/135 [==============================] - 6s 42ms/step - loss: 0.4030 - auroc: 0.6910 - val_loss: 0.3957 - val_auroc: 0.7052 - lr: 0.0010\n",
      "Epoch 18/20\n",
      "135/135 [==============================] - 6s 42ms/step - loss: 0.4008 - auroc: 0.6978 - val_loss: 0.3932 - val_auroc: 0.7052 - lr: 0.0010\n",
      "Epoch 19/20\n",
      "135/135 [==============================] - 6s 43ms/step - loss: 0.4001 - auroc: 0.6942 - val_loss: 0.3949 - val_auroc: 0.7029 - lr: 0.0010\n",
      "Epoch 20/20\n",
      "135/135 [==============================] - 6s 43ms/step - loss: 0.3989 - auroc: 0.6966 - val_loss: 0.3937 - val_auroc: 0.7002 - lr: 0.0010\n"
     ]
    },
    {
     "data": {
      "text/plain": [
       "<tensorflow.python.keras.callbacks.History at 0x2041644c460>"
      ]
     },
     "execution_count": 82,
     "metadata": {},
     "output_type": "execute_result"
    }
   ],
   "source": [
    "#compiling and fitting the model\n",
    "model.compile(optimizer=tf.keras.optimizers.Adam(lr=0.001),loss='categorical_crossentropy',metrics=[auroc])\n",
    "model.fit(X_train_vec,y_train,batch_size=512,workers=16,epochs=20,callbacks=[tensorboard_callback,reduce_lr_1],validation_data=(X_test_vec,y_test))"
   ]
  },
  {
   "cell_type": "code",
   "execution_count": 84,
   "metadata": {},
   "outputs": [],
   "source": [
    "pred_label_train = model.predict(X_train_vec)\n",
    "pred_label_train = [1 if x[1] > x[0] else 0 for x in pred_label_train]\n",
    "pred_label_test = model.predict(X_test_vec)\n",
    "pred_label_test = [1 if x[1] > x[0] else 0 for x in pred_label_test]"
   ]
  },
  {
   "cell_type": "code",
   "execution_count": 85,
   "metadata": {},
   "outputs": [
    {
     "name": "stdout",
     "output_type": "stream",
     "text": [
      "Train F1_score for this model is :  0.9221\n",
      "Test F1_score for this model is :  0.9233\n"
     ]
    }
   ],
   "source": [
    "#Please run train_test split cell to represent y_train and y_test in 1D vector instead of onehot encoded vector.\n",
    "#f1 score\n",
    "print('Train F1_score for this model is : ',round(f1_score(y_train,pred_label_train),4))\n",
    "print('Test F1_score for this model is : ',round(f1_score(y_test,pred_label_test),4))"
   ]
  },
  {
   "cell_type": "code",
   "execution_count": 86,
   "metadata": {},
   "outputs": [
    {
     "name": "stdout",
     "output_type": "stream",
     "text": [
      "Train Accuracy score for this model :  0.8607\n",
      "Test Accuracy score for this model :  0.8629\n"
     ]
    }
   ],
   "source": [
    "print('Train Accuracy score for this model : ',round(accuracy_score(y_train,pred_label_train),4))\n",
    "print('Test Accuracy score for this model : ',round(accuracy_score(y_test,pred_label_test),4))"
   ]
  },
  {
   "cell_type": "markdown",
   "metadata": {},
   "source": [
    "# Observations\n",
    "\n",
    "1. We created a standard deep Neural network model and trained it for 20 epochs this resulted f1 score very similar to our best ML model yet which is GBDT.\n",
    "2. Kindly note that this neural network was very little hyper-parameter tuning done,and still results in a very decent performance.\n",
    "3. However the auc score of GBDT is still better than the NN model.\n",
    "4. Important thing to note that NN based models can be much better than conventional ML models for such problems."
   ]
  },
  {
   "cell_type": "markdown",
   "metadata": {},
   "source": [
    "# Results"
   ]
  },
  {
   "cell_type": "code",
   "execution_count": 91,
   "metadata": {},
   "outputs": [
    {
     "name": "stdout",
     "output_type": "stream",
     "text": [
      "+---------------------+----------+-------------+------------+\n",
      "|        Model        | F1_score |  AUC_score  |  Accuracy  |\n",
      "+---------------------+----------+-------------+------------+\n",
      "|     Naive Bayes     |  0.8575  |    0.694    |   0.7689   |\n",
      "| Logistic Regression |  0.9217  |    0.699    |   0.8605   |\n",
      "|    Decision Tree    |  0.8031  |    0.713    |   0.7021   |\n",
      "|    Random Forest    |  0.9013  |    0.718    |   0.8315   |\n",
      "|     GBDT**(BEST)    |  0.9243  |    0.745    |   0.8651   |\n",
      "|       Deep NN       |  0.9233  |    0.710    |   0.8629   |\n",
      "+---------------------+----------+-------------+------------+\n"
     ]
    }
   ],
   "source": [
    "from prettytable import PrettyTable\n",
    "\n",
    "table = PrettyTable()\n",
    "table.field_names = [\"Model\", \"F1_score\", \" AUC_score \",\" Accuracy \"]\n",
    "\n",
    "table.add_row([ \"Naive Bayes\",'0.8575','0.694','0.7689'])\n",
    "table.add_row([\"Logistic Regression\",'0.9217','0.699','0.8605'])\n",
    "table.add_row([\"Decision Tree\",'0.8031','0.713','0.7021'])\n",
    "table.add_row([\"Random Forest\",'0.9013','0.718','0.8315',])\n",
    "table.add_row([\"GBDT**(BEST)\",'0.9243','0.745','0.8651'])\n",
    "table.add_row([\"Deep NN\",'0.9233','0.710','0.8629'])\n",
    "\n",
    "print(table)"
   ]
  },
  {
   "cell_type": "markdown",
   "metadata": {},
   "source": [
    "# Summary\n",
    "\n",
    "1. GBDT performs better in comparision to rest of the model in terms of all the performance metric.\n",
    "2. Logistic regression performs fairly similar to GBDT, but GBDT is more robust to outliers.\n",
    "3. Rating prediction is not fairly dependent directly on most of the features, so the performance is not at its peak.\n",
    "4. We have used f1 score as our primary performance metric.\n",
    "5. We have taken care of overfitting in each model.\n",
    "6. Each model performed better after we removed neutral review score from the data."
   ]
  }
 ],
 "metadata": {
  "kernelspec": {
   "display_name": "Python 3",
   "language": "python",
   "name": "python3"
  },
  "language_info": {
   "codemirror_mode": {
    "name": "ipython",
    "version": 3
   },
   "file_extension": ".py",
   "mimetype": "text/x-python",
   "name": "python",
   "nbconvert_exporter": "python",
   "pygments_lexer": "ipython3",
   "version": "3.8.3"
  }
 },
 "nbformat": 4,
 "nbformat_minor": 4
}
